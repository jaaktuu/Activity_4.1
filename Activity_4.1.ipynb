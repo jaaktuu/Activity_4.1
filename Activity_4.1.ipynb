{
 "cells": [
  {
   "cell_type": "raw",
   "metadata": {},
   "source": [
    "---\n",
    "self-contained: True\n",
    "title: Activity 4.1\n",
    "author: Tuukka Jaakkola\n",
    "date: '10/20/2023'\n",
    "output: html\n",
    "theme: darkly\n",
    "---"
   ]
  },
  {
   "cell_type": "code",
   "execution_count": 12,
   "metadata": {},
   "outputs": [],
   "source": [
    "#!pip install beautifulsoup4"
   ]
  },
  {
   "cell_type": "markdown",
   "metadata": {
    "id": "qrJX4FDa8oA8"
   },
   "source": [
    "# XML, HTML, and Web Scraping\n",
    "\n",
    "JSON and XML are two different ways to represent hierarchical data. Which one is better? There are lots of articles online which discuss similarities and differences between JSON and XML and their advantages and disadvantages. Both formats are still in current usage, so it is good to be familiar with both. However, JSON is more common, so we'll focus on working with JSON representations of hierarchical data.\n",
    "\n",
    "The reading covered an example of using Beautiful Soup to parse XML. Rather than doing another example XML now, we'll skip straight to scraping HTML from a webpage. Both HTML and XML can be parsed in a similar way with Beautiful Soup."
   ]
  },
  {
   "cell_type": "code",
   "execution_count": 23,
   "metadata": {
    "id": "XZhT8jhbuZSg"
   },
   "outputs": [],
   "source": [
    "import pandas as pd\n",
    "import requests\n",
    "from requests import get\n",
    "from bs4 import BeautifulSoup"
   ]
  },
  {
   "cell_type": "markdown",
   "metadata": {
    "id": "ApqnMQ4iV4qu"
   },
   "source": [
    "## Scraping an HTML table with Beautiful Soup"
   ]
  },
  {
   "cell_type": "markdown",
   "metadata": {
    "id": "9SD7XOs_So3G"
   },
   "source": [
    "Open the URL https://en.wikipedia.org/wiki/List_of_United_States_cities_by_population and scroll down until you see a table of the cities in the U.S. with population over 100,000 (as of Jul 1, 2022). We'll use Beautiful Soup to scrape information from this table."
   ]
  },
  {
   "cell_type": "markdown",
   "metadata": {
    "id": "HRmnzgaQS_T0"
   },
   "source": [
    "Read in the HTML from the ULR using the `requests` library."
   ]
  },
  {
   "cell_type": "code",
   "execution_count": 24,
   "metadata": {
    "id": "xvYzbSospYVu"
   },
   "outputs": [],
   "source": [
    "response = requests.get(\"https://en.wikipedia.org/wiki/List_of_United_States_cities_by_population\")"
   ]
  },
  {
   "cell_type": "markdown",
   "metadata": {
    "id": "YJ1Swg6B82_J"
   },
   "source": [
    "Use Beautiful Soup to parse this string into a tree called `soup`"
   ]
  },
  {
   "cell_type": "code",
   "execution_count": 25,
   "metadata": {
    "id": "e0jpmfwtpaEB"
   },
   "outputs": [],
   "source": [
    "soup = BeautifulSoup(response.content, \"html.parser\")"
   ]
  },
  {
   "cell_type": "markdown",
   "metadata": {
    "id": "lFxGW_KIDjnx"
   },
   "source": [
    "To find an HTML tag corresponding to a specific element on a webpage, right-click on it and choose \"Inspect element\". Go to the cities table Wikipedia page and do this now.\n",
    "\n",
    "You should find that the cities table on the Wikipedia page corresponds to the element\n",
    "\n",
    "```\n",
    "<table class=\"wikitable sortable jquery-tablesorter\" style=\"text-align:center\">\n",
    "```"
   ]
  },
  {
   "cell_type": "markdown",
   "metadata": {
    "id": "DR50aTBZEwov"
   },
   "source": [
    "There are many `<table>` tags on the page."
   ]
  },
  {
   "cell_type": "code",
   "execution_count": 26,
   "metadata": {
    "colab": {
     "base_uri": "https://localhost:8080/"
    },
    "id": "4691d-EGEwc0",
    "outputId": "c61998cd-1413-4e46-f300-f81f316510f1"
   },
   "outputs": [
    {
     "data": {
      "text/plain": [
       "14"
      ]
     },
     "execution_count": 26,
     "metadata": {},
     "output_type": "execute_result"
    }
   ],
   "source": [
    "len(soup.find_all(\"table\"))"
   ]
  },
  {
   "cell_type": "markdown",
   "metadata": {
    "id": "H1xslM2yE1GI"
   },
   "source": [
    "We can use attributes like `class=` and `style=` to narrow down the list."
   ]
  },
  {
   "cell_type": "code",
   "execution_count": 27,
   "metadata": {
    "colab": {
     "base_uri": "https://localhost:8080/"
    },
    "id": "E0Q0sa46DvTZ",
    "outputId": "82d46b9d-1bdc-455f-98e4-6e1086758a4f"
   },
   "outputs": [
    {
     "data": {
      "text/plain": [
       "3"
      ]
     },
     "execution_count": 27,
     "metadata": {},
     "output_type": "execute_result"
    }
   ],
   "source": [
    "len(soup.find_all(\"table\",\n",
    "                  attrs={\n",
    "                      \"class\": \"wikitable sortable\",\n",
    "                      \"style\": \"text-align:center\"}\n",
    "                  ))"
   ]
  },
  {
   "cell_type": "markdown",
   "metadata": {
    "id": "ndnRSJJiFFby"
   },
   "source": [
    "At this point, you can manually inspect the tables on the webpage to find that the one we want is the first one (see `[0]` below). We'll store this as `table`."
   ]
  },
  {
   "cell_type": "code",
   "execution_count": 29,
   "metadata": {
    "id": "sRBSqVGlYhuT"
   },
   "outputs": [],
   "source": [
    "table = soup.find_all(\"table\",\n",
    "                  attrs={\n",
    "                      \"class\": \"wikitable sortable\",\n",
    "                      \"style\": \"text-align:center\"}\n",
    "                  )[0]"
   ]
  },
  {
   "cell_type": "markdown",
   "metadata": {
    "id": "j4AWo3QoYqNY"
   },
   "source": [
    "**Now you will write code to scrape the information in `table` to create a Pandas data frame with one row for each city and columns for: city, state, population (2022 estimate), and 2020 land area (sq mi).** Refer to the Notes/suggestions below as you write your code. A few Hints are provided further down, but try coding first before looking at the hints."
   ]
  },
  {
   "cell_type": "markdown",
   "metadata": {
    "id": "KfRx2_XlDUqD"
   },
   "source": [
    "Notes/suggestions:\n",
    "\n",
    "- Use as a guide the code from the reading that produced the data frame of Statistics faculty\n",
    "- Inspect the page source as you write your code\n",
    "- You will need to write a loop to get the information for all cities, but you might want to try just scraping the info for New York first\n",
    "- You will need to pull the text from the tag. If `.text` returns text with \"\\n\" at the end, try `.get_text(strip = True)` instead of `.text`\n",
    "- Don't forget to convert to a Pandas Data Frame; it should have 333 rows and 4 columns\n",
    "- The goal of this exercise is just to create the Data Frame. If you were going to use it --- e.g., what is the population density for all cities in CA? --- then you would need to clean the data first (to clean strings and convert to quantitative). (You can use Beautiful Soup to do some of the cleaning for you, but that goes beyond our scope.)"
   ]
  },
  {
   "cell_type": "code",
   "execution_count": 30,
   "metadata": {
    "id": "msKiUcOZpSX7"
   },
   "outputs": [],
   "source": [
    "# initialize an empty list\n",
    "rows = []\n",
    "\n",
    "# iterate over all rows in the faculty table\n",
    "for city in table.find_all(\"tr\")[1:]:\n",
    "\n",
    "    # Get all the cells (<td>) in the row.\n",
    "    cells = city.find_all(\"td\")\n",
    "\n",
    "    # The information we need is the text between tags.\n",
    "\n",
    "    # Find the the name of the cityin cell[0]\n",
    "    # which for most city is contained in the <i> tag\n",
    "    name_tag = cells[0].find(\"a\") or cells[0]\n",
    "    name = name_tag.text\n",
    "\n",
    "    # Find the state of the city in cell[1]\n",
    "    # which for most states is contained in the <i> tag\n",
    "    state_tag = cells[1].find(\"a\") or cells[1]\n",
    "    state = state_tag.text\n",
    "\n",
    "    # Find the population 2022 of the city in cell[2]\n",
    "    # which for most populations is contained in the <a> tag\n",
    "    population_2022_tag = cells[2].find(\"td\") or cells[2]\n",
    "    population_2022 = population_2022_tag.text\n",
    "\n",
    "    # Find the population 2020 of the city in cell[3]\n",
    "    # which for most population is contained in the <a> tag\n",
    "    population_2020_tag = cells[3].find(\"td\") or cells[3]\n",
    "    population_2020 = population_2020_tag.text\n",
    "\n",
    "    # Find the land area of the city in cell[5]\n",
    "    # which for most land area is contained in the <a> tag\n",
    "    land_area_tag = cells[5].find(\"td\") or cells[5]\n",
    "    land_area = land_area_tag.text\n",
    "\n",
    "    # Append this data.\n",
    "    rows.append({\n",
    "        \"name\": name,\n",
    "        \"state\": state,\n",
    "        \"population (2022 estimate)\": population_2022,\n",
    "        \"population (2020 census)\": population_2020,\n",
    "        \"land area (sq.mi)\": land_area\n",
    "    })"
   ]
  },
  {
   "cell_type": "code",
   "execution_count": 31,
   "metadata": {
    "colab": {
     "base_uri": "https://localhost:8080/"
    },
    "id": "1M23w-PPtUyw",
    "outputId": "cb8a8b65-f247-48f6-e256-5b3037b78427"
   },
   "outputs": [
    {
     "name": "stdout",
     "output_type": "stream",
     "text": [
      "          name       state population (2022 estimate)  \\\n",
      "0     New York    New York                8,335,897\\n   \n",
      "1  Los Angeles  California                3,822,238\\n   \n",
      "2      Chicago    Illinois                2,665,039\\n   \n",
      "3      Houston       Texas                2,302,878\\n   \n",
      "4      Phoenix     Arizona                1,644,409\\n   \n",
      "\n",
      "  population (2020 census) land area (sq.mi)  \n",
      "0              8,804,190\\n     300.5 sq mi\\n  \n",
      "1              3,898,747\\n     469.5 sq mi\\n  \n",
      "2              2,746,388\\n     227.7 sq mi\\n  \n",
      "3              2,304,580\\n     640.4 sq mi\\n  \n",
      "4              1,608,139\\n     518.0 sq mi\\n  \n"
     ]
    }
   ],
   "source": [
    "print(pd.DataFrame(rows).head())"
   ]
  },
  {
   "cell_type": "markdown",
   "metadata": {
    "id": "6s3tH82XZ1X0"
   },
   "source": [
    "Hints:\n",
    "\n",
    "- Each city is a row in the table; find all the `<tr>` tags to find all the cities\n",
    "- Look for the `<td>` tag to see table entries within a row\n",
    "- The rank column is represented by `<th>` tags, rather than `<td>` tags. So within a row, the first (that is, `[0]`) `<td>` tag corresponds to the city name."
   ]
  },
  {
   "cell_type": "markdown",
   "metadata": {
    "id": "pIW4UgURNdhz"
   },
   "source": [
    "## Aside: Scraping an HTML table with Pandas\n",
    "\n"
   ]
  },
  {
   "cell_type": "markdown",
   "metadata": {
    "id": "R2ufAAMGYenH"
   },
   "source": [
    "The Pandas command `read_html` can be used to scrape information from an HTML table on a webpage.\n",
    "\n",
    "We can call `read_html` on the URL."
   ]
  },
  {
   "cell_type": "code",
   "execution_count": 32,
   "metadata": {
    "id": "YnGD1hMbpv7H"
   },
   "outputs": [],
   "source": [
    "#pd.read_html(\"https://en.wikipedia.org/wiki/List_of_United_States_cities_by_population\")"
   ]
  },
  {
   "cell_type": "markdown",
   "metadata": {
    "id": "pQwWgh_cqynb"
   },
   "source": [
    "However, this scrapes all the tables on the webpage, not just the one we want. As with Beautiful Soup, we can narrow the search by specifying the table attributes."
   ]
  },
  {
   "cell_type": "code",
   "execution_count": 33,
   "metadata": {
    "id": "4BKvPxa9qJ2-"
   },
   "outputs": [],
   "source": [
    "#pd.read_html(\"https://en.wikipedia.org/wiki/List_of_United_States_cities_by_population\", attrs = {'class': 'wikitable sortable', \"style\": \"text-align:center\"})"
   ]
  },
  {
   "cell_type": "markdown",
   "metadata": {
    "id": "P6P7xCnPrBtS"
   },
   "source": [
    "This still returns 3 tables. As we remarked above, the table that we want is the first one (see `[0]` below)."
   ]
  },
  {
   "cell_type": "code",
   "execution_count": 34,
   "metadata": {
    "colab": {
     "base_uri": "https://localhost:8080/",
     "height": 1000
    },
    "id": "96L5qJvGp7ks",
    "outputId": "5dd398d4-cf09-4f78-db53-3395ecc4bc10"
   },
   "outputs": [],
   "source": [
    "#df_cities2 = pd.read_html(\"https://en.wikipedia.org/wiki/List_of_United_States_cities_by_population\", attrs = {'class': 'wikitable sortable', \"style\": \"text-align:center\"})[0]\n",
    "#df_cities2"
   ]
  },
  {
   "cell_type": "markdown",
   "metadata": {
    "id": "TjeczIIMYeqj"
   },
   "source": [
    "Wait, that seemed much easier than using Beautiful Soup, and it returned a data frame, and we even got for free some formatting like removing the commas from the population! Why didn't we just use `read_html` in the first place? It's true the `read_html` works well when scraping information from an HTML *table*. Unfortunately, you often want to scrape information from a webpage that isn't conveniently stored in an HTML table, in which case `read_html` won't work. (It only searches for `<table>`, `<th>`, `<tr>`, and `<td>` tags, but there are many other HTML tags.) Though Beautiful Soup is not as simple as `read_html`, it is more flexible and thus more widely applicable."
   ]
  },
  {
   "cell_type": "markdown",
   "metadata": {
    "id": "ctj79YpgX6hw"
   },
   "source": [
    "## Scraping information that is NOT in a `<table>` with Beautiful Soup"
   ]
  },
  {
   "cell_type": "markdown",
   "metadata": {
    "id": "KK6rJQbuuWwF"
   },
   "source": [
    "The Cal Poly course catalog http://catalog.calpoly.edu/collegesandprograms/collegeofsciencemathematics/statistics/#courseinventory contains a list of courses offered by the Statistics department. **You will scrape this website to obtain a Pandas data frame with one row for each DATA or STAT course and two columns: course name and number (e.g, DATA 301. Introduction to Data Science) and term typically offered (e.g., Term Typically Offered: F, W, SP).**"
   ]
  },
  {
   "cell_type": "markdown",
   "metadata": {
    "id": "hbLLrwxs0eWd"
   },
   "source": [
    "Note: Pandas `read_html` is not help here since the courses are not stored in a `<table>.`"
   ]
  },
  {
   "cell_type": "code",
   "execution_count": 35,
   "metadata": {
    "colab": {
     "base_uri": "https://localhost:8080/"
    },
    "id": "QIRewkca0jhz",
    "outputId": "07f72e09-639b-4ec8-af2b-7fcfc84187e5"
   },
   "outputs": [],
   "source": [
    "#pd.read_html(\"http://catalog.calpoly.edu/collegesandprograms/collegeofsciencemathematics/statistics/#courseinventory\")"
   ]
  },
  {
   "cell_type": "markdown",
   "metadata": {
    "id": "lvSrhxS4Se7a"
   },
   "source": [
    "\n",
    "Notes/suggestions:\n",
    "\n",
    "\n",
    "- Inspect the page source as you write your code\n",
    "- The courses are not stored in a `<table>`. How are they stored?\n",
    "- You will need to write a loop to get the information for all courses, but you might want to try just scraping the info for DATA 100 first\n",
    "- What kind of tag is the course name stored in? What is the `class` of the tag?\n",
    "- What kind of tag is the quarter(s) the course is offered stored in? What is the `class` of the tag? Is this the only tag of this type with the class? How will you get the one you want?\n",
    "- You don't have to remove the number of units (e.g., 4 units) from the course name and number, but you can try it if you want\n",
    "- You will need to pull the text from the tag. If `.text` returns text with \"\\n\" at the end, try `get_text(strip = True)` instead of `text`\n",
    "- Don't forget to convert to a Pandas Data Frame; it should have 74 rows and 2 columns\n",
    "- The goal of this exercise is just to create the Data Frame. If you were going to use it then you might need to clean the data first. (You can use Beautiful Soup to do some of the cleaning for you, but that goes beyond our scope.)\n",
    "\n"
   ]
  },
  {
   "cell_type": "code",
   "execution_count": 36,
   "metadata": {
    "id": "ZbW6xon4vICB"
   },
   "outputs": [],
   "source": [
    "classes = requests.get(\"https://catalog.calpoly.edu/collegesandprograms/collegeofsciencemathematics/statistics/#courseinventory\")\n",
    "soup2 = BeautifulSoup(classes.content, \"html.parser\")"
   ]
  },
  {
   "cell_type": "code",
   "execution_count": 37,
   "metadata": {
    "colab": {
     "base_uri": "https://localhost:8080/"
    },
    "id": "EW2sWIGavIFc",
    "outputId": "10e71f47-f9c2-4be3-d034-2ba515b48b33"
   },
   "outputs": [],
   "source": [
    "class_data = soup2.find_all(\"div\", {\"class\": \"courseblock\"})\n",
    "class_data = list(class_data)\n",
    "#type(class_data)\n",
    "#len(class_data)\n",
    "#print(class_data)"
   ]
  },
  {
   "cell_type": "code",
   "execution_count": 38,
   "metadata": {},
   "outputs": [
    {
     "name": "stdout",
     "output_type": "stream",
     "text": [
      "                                                 name  \\\n",
      "0          DATA 100. Data Science for All I.\\n4 units   \n",
      "1    DATA 301. Introduction to Data Science.\\n4 units   \n",
      "2   DATA 401. Data Science Process and Ethics.\\n3 ...   \n",
      "3   DATA 402. Mathematical Foundations of Data Sci...   \n",
      "4   DATA 403. Data Science Projects Laboratory.\\n1...   \n",
      "..                                                ...   \n",
      "69    STAT 551. Statistical Learning with R.\\n4 units   \n",
      "70  STAT 566. Graduate Consulting Practicum.\\n2 units   \n",
      "71     STAT 570. Selected Advanced Topics.\\n1-4 units   \n",
      "72  STAT 590. Graduate Seminar in Statistics.\\n1 unit   \n",
      "73                       STAT 599. Thesis.\\n1-4 units   \n",
      "\n",
      "                             offered  \n",
      "0   Term Typically Offered: F, W, SP  \n",
      "1   Term Typically Offered: F, W, SP  \n",
      "2          Term Typically Offered: F  \n",
      "3          Term Typically Offered: F  \n",
      "4          Term Typically Offered: F  \n",
      "..                               ...  \n",
      "69         Term Typically Offered: F  \n",
      "70        Term Typically Offered: SP  \n",
      "71       Term Typically Offered: TBD  \n",
      "72  Term Typically Offered: F, W, SP  \n",
      "73       Term Typically Offered: TBD  \n",
      "\n",
      "[74 rows x 2 columns]\n"
     ]
    }
   ],
   "source": [
    "\n",
    "# Initialize an empty list\n",
    "rows = []\n",
    "\n",
    "# Iterate over all rows in the faculty table\n",
    "for course in class_data:\n",
    "\n",
    "    # Get all the cells (<div>) in the row.\n",
    "    cells = course.find_all(\"p\")\n",
    "    \n",
    "    #print(cells)\n",
    "\n",
    "    # Find the name of the course in cell[0]\n",
    "    name_tag = cells[0].find(\"strong\")\n",
    "    if name_tag is not None:\n",
    "        name = name_tag.text.strip()\n",
    "    else:\n",
    "        name = cells[0].find(\"span\").extract.text.strip()\n",
    "        \n",
    "    offered_tag = cells[1].find(\"p\", class_ = \"noindent\")\n",
    "    if offered_tag is not None:\n",
    "        offered = offered_tag.text.strip()\n",
    "    else:\n",
    "        offered = cells[1].text.strip()\n",
    "\n",
    "    # Append this data.\n",
    "    rows.append({\n",
    "        \"name\": name,\n",
    "        \"offered\" : offered\n",
    "    })\n",
    "\n",
    "# Create a DataFrame from the list of dictionaries\n",
    "df = pd.DataFrame(rows)\n",
    "\n",
    "print(df)\n"
   ]
  },
  {
   "cell_type": "markdown",
   "metadata": {
    "id": "17e8M_OsaHJz"
   },
   "source": [
    "Hints:\n",
    "\n",
    "- Each course is represented by a `<div>` with `class=courseblock`, so you can find all the courses with `soup.find_all(\"div\", {\"class\": \"courseblock\"})`\n",
    "- The course name is in a `<p>` tag with `class=courseblocktitle`, inside a `<strong>` tag. (Though I don't think we need to find the strong tag here.)\n",
    "- The term typically offered is in `<p>` tag with `class=noindent`. However, there are several tags with this class; term typically offered is the first one.\n",
    "- If you want to use Beautiful Soup to remove the course units (e.g., 4 units), find the `<span>` tag within the course name tag and `.extract()` this span tag"
   ]
  },
  {
   "cell_type": "markdown",
   "metadata": {
    "id": "UcZteWi4gFqo"
   },
   "source": [
    "# Class Notes\n"
   ]
  },
  {
   "cell_type": "markdown",
   "metadata": {
    "id": "FGgc777Rl7-T"
   },
   "source": [
    "## API"
   ]
  },
  {
   "cell_type": "code",
   "execution_count": 6,
   "metadata": {
    "colab": {
     "base_uri": "https://localhost:8080/"
    },
    "id": "trNmdzVvgTMd",
    "outputId": "4f43100f-3e83-4442-ce37-e597323349f3"
   },
   "outputs": [],
   "source": [
    "#!pip install beautifulsoup4"
   ]
  },
  {
   "cell_type": "code",
   "execution_count": 7,
   "metadata": {
    "id": "h3KsdVEXgKKC"
   },
   "outputs": [],
   "source": [
    "import pandas as pd\n",
    "\n",
    "from requests import get\n",
    "\n",
    "url = \"https://tasty.p.rapidapi.com/recipes/list\"\n",
    "\n",
    "querystring = {\"from\":\"0\",\"size\":\"20\",\"q\":\"daikon\"}\n",
    "\n",
    "headers = {\n",
    "    \"X-RapidAPI-Key\": 'f8cbec4e16msh9d42e764e31cf65p13ede9jsnb08c4c0cc835',\n",
    "    \"X-RapidAPI-Host\": \"tasty.p.rapidapi.com\"\n",
    "}\n",
    "\n",
    "response = get(url, headers=headers, params=querystring)\n"
   ]
  },
  {
   "cell_type": "code",
   "execution_count": 10,
   "metadata": {
    "id": "koGQqI9ojZsQ"
   },
   "outputs": [],
   "source": [
    "daikon_recipes = pd.json_normalize(response.json(), \"results\")\n",
    "#daikon_recipes"
   ]
  },
  {
   "cell_type": "code",
   "execution_count": 9,
   "metadata": {
    "id": "vBI0i2vVkpJr"
   },
   "outputs": [],
   "source": [
    "from time import sleep\n",
    "\n",
    "for i in range(1, 5, 1):\n",
    "  querystring = {\"from\":str(20*(i-1)),\"size\":\"20\",\"q\":\"daikon\"}\n",
    "  sleep(2)"
   ]
  }
 ],
 "metadata": {
  "colab": {
   "provenance": []
  },
  "kernelspec": {
   "display_name": "Python 3 (ipykernel)",
   "language": "python",
   "name": "python3"
  },
  "language_info": {
   "codemirror_mode": {
    "name": "ipython",
    "version": 3
   },
   "file_extension": ".py",
   "mimetype": "text/x-python",
   "name": "python",
   "nbconvert_exporter": "python",
   "pygments_lexer": "ipython3",
   "version": "3.11.4"
  }
 },
 "nbformat": 4,
 "nbformat_minor": 1
}
